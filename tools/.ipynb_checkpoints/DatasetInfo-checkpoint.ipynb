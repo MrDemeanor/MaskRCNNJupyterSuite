{
 "cells": [
  {
   "cell_type": "code",
   "execution_count": 1,
   "metadata": {},
   "outputs": [],
   "source": [
    "from pycocotools.coco import COCO\n",
    "import matplotlib.pyplot as plt; plt.rcdefaults()\n",
    "import numpy as np\n",
    "import matplotlib.pyplot as plt\n",
    "import matplotlib\n",
    "from math import floor, ceil\n",
    "from tqdm import tnrange, tqdm_notebook\n",
    "import pandas as pd"
   ]
  },
  {
   "cell_type": "code",
   "execution_count": 2,
   "metadata": {},
   "outputs": [],
   "source": [
    "class COCODatasetInfo():\n",
    "    def __init__(self, annotations_file):\n",
    "        self.coco_json = COCO(annotations_file)\n",
    "        \n",
    "        # Get image IDs for all images in dataset\n",
    "        self.imgIds = self.coco_json.getImgIds()\n",
    "        self.images = self.coco_json.loadImgs(ids = self.imgIds)\n",
    "        \n",
    "        self.num_annotations = list()\n",
    "        self.num_areas = list()\n",
    "\n",
    "        for x in range(len(self.imgIds)):\n",
    "            # Get annotation IDs pertaining to image\n",
    "            annIds = self.coco_json.getAnnIds(imgIds = self.imgIds[x])\n",
    "\n",
    "            # Get all annotations pertaining to image\n",
    "            annotations = self.coco_json.loadAnns(ids = annIds)\n",
    "\n",
    "            # Add number of annotations to annotations list\n",
    "            self.num_annotations.append(len(annotations))\n",
    "            \n",
    "            for annotation in annotations:\n",
    "                if annotation[\"area\"] > 166:\n",
    "                    self.num_areas.append(int(annotation[\"area\"]))\n",
    "        \n",
    "        print(\"Max in self.num_areas: {}\".format(max(self.num_areas)))\n",
    "        \n",
    "        counter = 0\n",
    "        num = self.num_areas[0] \n",
    "\n",
    "        for i in self.num_areas: \n",
    "            curr_frequency = self.num_areas.count(i) \n",
    "            if(curr_frequency> counter): \n",
    "                counter = curr_frequency \n",
    "                num = i \n",
    "\n",
    "        self.most_frequent_area = num \n",
    "        \n",
    "        self.most_frequent_area_freq = 0\n",
    "        \n",
    "        for area in self.num_areas:\n",
    "            if self.most_frequent_area == area:\n",
    "                self.most_frequent_area_freq = self.most_frequent_area_freq + 1\n",
    "        \n",
    "        self.min_dim = np.inf\n",
    "        self.max_dim = 0\n",
    "\n",
    "        for image in self.images:\n",
    "            if image[\"height\"] < self.min_dim:\n",
    "                self.min_dim = image[\"height\"]\n",
    "            if image[\"width\"] < self.min_dim:\n",
    "                self.min_dim = image[\"width\"]\n",
    "            if image[\"height\"] > self.max_dim:\n",
    "                self.max_dim = image[\"height\"]\n",
    "            if image[\"width\"] > self.min_dim:\n",
    "                self.max_dim = image[\"width\"]\n",
    "        \n",
    "        while self.min_dim / 2**6 != int(self.min_dim / 2**6):\n",
    "            self.min_dim = self.min_dim + 1\n",
    "\n",
    "        while self.max_dim / 2**6 != int(self.max_dim / 2**6):\n",
    "            self.max_dim = self.max_dim + 1\n",
    "        \n",
    "    def annsPerImage(self):\n",
    "        objects = [str(i) for i in range(len(self.imgIds))]\n",
    "        y_pos = np.arange(len(objects))\n",
    "\n",
    "        plt.bar(y_pos, self.num_annotations)\n",
    "        plt.tick_params( axis='x', which='both', bottom=False, top=False, labelbottom=False ) \n",
    "        plt.ylabel('Number of Annotations')\n",
    "        plt.title('Annotations Count Per Image')\n",
    "\n",
    "        plt.show()\n",
    "    \n",
    "    def annsHistogram(self, figsize = None):\n",
    "        \n",
    "        if figsize:\n",
    "            plt.figure(figsize = figsize)\n",
    "        plt.hist(self.num_annotations, edgecolor='black', linewidth=1.2, bins = len(self.num_annotations))\n",
    "        plt.xlabel(\"Number of Annotations\")\n",
    "        plt.ylabel(\"Frequency of Annotation Count\")\n",
    "        plt.show()\n",
    "    \n",
    "    def areaHistogram(self, figsize = None, max_area = None):\n",
    "        \n",
    "        if max_area is None:\n",
    "            max_area = max(self.num_areas)\n",
    "        \n",
    "        if figsize:\n",
    "            plt.figure(figsize = figsize)\n",
    "        \n",
    "        my_list = list()\n",
    "        \n",
    "        for area in self.num_areas:\n",
    "            if area <= max_area:\n",
    "                my_list.append(area)\n",
    "            \n",
    "        plt.hist(my_list, edgecolor='black', linewidth=1.2, bins = len(self.num_areas))\n",
    "        plt.xlabel(\"Area\")\n",
    "        plt.ylabel(\"Frequency of Area\")\n",
    "        \n",
    "        # Code used to plot out individual figures\n",
    "        plt.figure(figsize=(30, 50))\n",
    "        plt.show()        \n",
    "    \n",
    "    def getDatapoints(self):\n",
    "        df = pd.DataFrame(np.array([[len(self.images), sum(self.num_annotations), int(max(self.num_annotations)), int(min(self.num_annotations)), int(sum(self.num_annotations) / len(self.num_annotations)), self.min_dim, self.max_dim, int(min(self.num_areas)), int(max(self.num_areas)), int(sum(self.num_areas) / len(self.num_areas)), int(self.most_frequent_area), int(self.most_frequent_area_freq)]]), columns = [\"Num Images\", \"Num Annotations\", \"Max Annotations\", \"Min Annotations\", \"Average Annotations Per Image\", \"Img Min Dim\", \"Img Max Dim\", \"Min Area\", \"Max Area\", \"Avg Area\", \"Most Frequent Area\", \"Most Frequent Area Frequency\"])\n",
    "        blankIndex = [''] * len(df)\n",
    "        df.index = blankIndex\n",
    "        return df\n",
    "    \n",
    "    def getNumAreas(self):\n",
    "        print(sorted(self.num_areas))\n",
    "    \n",
    "    def areaLineGraph(self, red_dot = False, max_value = None, figsize = None):\n",
    "        \n",
    "        if max_value is None:\n",
    "            max_value = max(self.num_areas)\n",
    "        \n",
    "        if figsize is None:\n",
    "            figsize = (18, 16)\n",
    "        plt.figure(figsize = figsize)\n",
    "        \n",
    "        my_list = list()\n",
    "        \n",
    "        for area in self.num_areas:\n",
    "            if area <= max_value:\n",
    "                if area not in my_list:\n",
    "                    my_list.append(area)\n",
    "        \n",
    "        if red_dot:\n",
    "            plt.plot(sorted(my_list), 'ro')\n",
    "        else:\n",
    "            plt.plot(sorted(my_list))\n",
    "            \n",
    "        plt.ylabel('Area')\n",
    "        plt.show()"
   ]
  },
  {
   "cell_type": "code",
   "execution_count": null,
   "metadata": {},
   "outputs": [
    {
     "name": "stdout",
     "output_type": "stream",
     "text": [
      "loading annotations into memory...\n",
      "Done (t=13.91s)\n",
      "creating index...\n",
      "index created!\n",
      "Max in self.num_areas: 891092\n"
     ]
    }
   ],
   "source": [
    "datasetInfo = COCODatasetInfo(\"../datasets/Downtown_Sliced/train/annotations.json\")"
   ]
  },
  {
   "cell_type": "code",
   "execution_count": null,
   "metadata": {},
   "outputs": [],
   "source": [
    "df = datasetInfo.getDatapoints()\n",
    "df"
   ]
  },
  {
   "cell_type": "code",
   "execution_count": null,
   "metadata": {},
   "outputs": [],
   "source": [
    "datasetInfo.annsPerImage()"
   ]
  },
  {
   "cell_type": "code",
   "execution_count": null,
   "metadata": {},
   "outputs": [],
   "source": [
    "datasetInfo.annsHistogram()"
   ]
  },
  {
   "cell_type": "code",
   "execution_count": null,
   "metadata": {},
   "outputs": [],
   "source": [
    "datasetInfo.areaHistogram(max_area = None)"
   ]
  },
  {
   "cell_type": "code",
   "execution_count": null,
   "metadata": {},
   "outputs": [],
   "source": [
    "datasetInfo.areaLineGraph(red_dot = True, max_value = None, figsize = (20, 18))"
   ]
  },
  {
   "cell_type": "code",
   "execution_count": null,
   "metadata": {},
   "outputs": [],
   "source": []
  }
 ],
 "metadata": {
  "kernelspec": {
   "display_name": "Python 3",
   "language": "python",
   "name": "python3"
  },
  "language_info": {
   "codemirror_mode": {
    "name": "ipython",
    "version": 3
   },
   "file_extension": ".py",
   "mimetype": "text/x-python",
   "name": "python",
   "nbconvert_exporter": "python",
   "pygments_lexer": "ipython3",
   "version": "3.6.8"
  }
 },
 "nbformat": 4,
 "nbformat_minor": 2
}
